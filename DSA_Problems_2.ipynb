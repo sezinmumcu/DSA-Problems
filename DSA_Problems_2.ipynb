{
 "cells": [
  {
   "cell_type": "markdown",
   "metadata": {
    "colab_type": "text",
    "id": "Opr96siXBvWZ"
   },
   "source": [
    "### Problem 1 : Loading CSV Data (1 point)\n",
    "\n",
    "Let's start with how to load data. In this problem, you will load the ```enron_employees.csv``` file provided with this assignment. (A comma-separated values (CSV) file is a text file that contains data 'delimited' by a character into separate values. When read by a program, these files can be easily converted into simple spreadsheets and can be read and edited by popular spreadsheet processing programs like Microsoft Excel or LibreOffice Calc. Since CSV files are simple to load and do not require specialized commercial software for usage, they are extremely popular as a data-distribution format.)\n",
    "\n",
    "NOTE: When row numbers are mentioned below, they start from 1 as you would generally see in spreadsheet software like Calc or Excel. Please do not forget that Python uses zero-based indexing (indices start from 0 instead of 1).\n",
    "\n",
    "In this assignment, you will use the csv library to load CSV files. The code for reading a csv file using the csv library is as follows.\n",
    "```python\n",
    "with open('path/to/your/file', 'r', encoding=\"utf8\") as rf:\n",
    "\treader = csv.reader(rf, delimiter = ',')\n",
    "\tfor row in reader:\n",
    "\t\tprint(row) # row represents a single row of data from the CSV file. csv.reader reads the file line by line, and each row is stored as a list where each element corresponds to a cell in that row.\n",
    "```\n",
    "\n",
    " In this problem, you will implement a function named ```load_data(filepath)``` that first read the provided csv file and return the header and data. Header is a first row of the csv file and data contains everything from row 2 onwards. \n",
    "\n",
    "Example: the function will be called by ```load_data('path/to/your/file')```. The header and data should be return in the format of two lists, i.e., ```['from', 'to', 'timestamp'], [['48', '13', '926389620'], ['67', '13', '926418960'], ['67', '13', '926418960'], ['75', '147', '926430480'], ['67', '48', '926498640']]```."
   ]
  },
  {
   "cell_type": "markdown",
   "metadata": {},
   "source": [
    "-----------\n",
    "\n",
    "For the first function, we take the first two lines of the code from the code provided above. However, we convert the read csv into a list to enable indexing. Then, we read the first row as the `header` through index 0 and the remaining rows as `data`. We return this header and data."
   ]
  },
  {
   "cell_type": "code",
   "execution_count": 6,
   "metadata": {
    "colab": {},
    "colab_type": "code",
    "id": "LgHRTCKfHBXM"
   },
   "outputs": [],
   "source": [
    "import csv\n",
    "\n",
    "def load_data(filepath):\n",
    "    \"\"\"\n",
    "    Load data from a CSV file.\n",
    "\n",
    "    This function reads a CSV file specified by the given filepath, extracts the header (first row) and the data (subsequent rows),\n",
    "    and returns them as two separate lists.\n",
    "\n",
    "    Args:\n",
    "    filepath (str): The path to the CSV file to be read.\n",
    "\n",
    "    Returns:\n",
    "    tuple: A tuple containing two elements:\n",
    "        - header (list): A list of column headers from the first row of the CSV file.\n",
    "        - data (list): A list of rows, where each row is represented as a list of values.\n",
    "    \"\"\"\n",
    "    # We open the specified CSV file for reading\n",
    "    with open(filepath, 'r', encoding='utf8') as rf:\n",
    "        # We create a CSV reader object to read the file line by line\n",
    "        reader = list(csv.reader(rf, delimiter=','))\n",
    "        \n",
    "        # We treat the first row as the header\n",
    "        header = reader[0]\n",
    "        \n",
    "        # We treat all subsequent rows as data\n",
    "        data = reader[1:]  \n",
    "    \n",
    "    # We return the header and data as a tuple\n",
    "    return header, data"
   ]
  },
  {
   "cell_type": "code",
   "execution_count": 7,
   "metadata": {
    "colab": {},
    "colab_type": "code",
    "id": "qoU9OHpNHK1d"
   },
   "outputs": [],
   "source": [
    "header, data = load_data('/Users/sezinmumcu/Desktop/ADSP/enron_employees.csv') # assume that you put enron_employees.csv and the ,ipynb file at the same folder, otherwise you should replace 'enron_employees.csv' with the correct path\n",
    "assert(header == ['from', 'to', 'timestamp'])\n",
    "assert(data[0:5] == [['48', '13', '926389620'], ['67', '13', '926418960'], ['67', '13', '926418960'], ['75', '147', '926430480'], ['67', '48', '926498640']])"
   ]
  },
  {
   "cell_type": "markdown",
   "metadata": {
    "colab_type": "text",
    "id": "qSY71hqRHtBy"
   },
   "source": [
    "### Problem 2  : Extract Rows and Columns (1 point)\n",
    "\n",
    "Once we have the data loaded, we might need to access the data in certain ways. For example, a user might want to extract all the values for a particular continent. In this problem, we will write code to extract a complete row or column from the data.\n",
    "\n",
    "In this problem, you will implement a function ```extract_axis```. The function ```extract_axis(header, data, request)``` should provide the following functionality:\n",
    "\n",
    "1. Accept header, data (return of the function above) and a tuple request that contains two items: axis and index. axis specifies whether to extract a row or a column, and index specifies which column or row needs to be extracted. The index is based on the structure of data where an index of 0 corresponds to extracting the first row or the first column of data depending on the axis selected.\n",
    "\n",
    "2. Return the fetched row or column as a list.\n",
    "\n",
    "3. Return an empty list if an invalid request, like asking for the 20th column (which does not exist) or the 80,000th row, is made.\n",
    "\n",
    "Following are a few examples:\n",
    "\n",
    "- Example 1: If the 3rd column needs to be extracted, the function will be called by ```extract_axis(header, data, ('col', '2'))``` and a list contains the 3rd column should be returned, i.e., ```['926389620', '926418960', '926418960', '926430480', ... , '949312440', '949312440']```.\n",
    "\n",
    "- Example 2: If the 1st row needs to be extracted, the function will be called by ```extract_axis(header, data, ('row', '0'))``` and a list contains the 1st row should be returned, i.e., ```['48', '13', '926389620']```.\n",
    "\n",
    "- Example 3: If the 5th column needs to be extracted, the function will be called by ```extract_axis(header, data, ('col', '4'))``` and a empty list should be returned as there is no 5th column.\n",
    "\n",
    "- Example 3: If the 10000th row needs to be extracted, the function will be called by ```extract_axis(header, data, ('row', '9999'))``` and a empty list should be returned as there is no 10000th row.\n"
   ]
  },
  {
   "cell_type": "markdown",
   "metadata": {},
   "source": [
    "-------------------\n",
    "\n",
    "For the second function, we start with indexing the tuple `request`. Through this, we specify the first element of the request as axis, and the second element of index. Then, we create a conditional statement for axis, to check if the axis is a column or a row. For the cases axis is a column, we nest another conditional statement to check if the requested index for col is possible. If it is possible, then we return value of all the rows in the requested index column. If it is not possible, we return an empty list. \n",
    "\n",
    "For the cases axis is a row, again, we check if the requested index for row is possible. If it is possible, then we return value of the row in the requested index. If it is not possible, we return an empty list. \n",
    "\n",
    "Finally, if axis is different, we return an empty list. "
   ]
  },
  {
   "cell_type": "code",
   "execution_count": 10,
   "metadata": {},
   "outputs": [],
   "source": [
    "def extract_axis(header, data, request):\n",
    "    \"\"\"\n",
    "    Extract a specific row or column from the data based on the user's request.\n",
    "\n",
    "    This function takes a header, data, and a request tuple, and returns either a specific row or column from the data structure. The request\n",
    "    specifies the axis ('row' or 'col') and the index of the row or column to extract.\n",
    "\n",
    "    Args:\n",
    "    header (list): The list of column headers from the CSV file.\n",
    "    data (list): The list of rows from the CSV file.\n",
    "    request (tuple): A tuple containing two elements:\n",
    "        - axis (str): Specifies whether to extract a 'row' or 'col'.\n",
    "        - index (str): The index of the row or column to extract (as a string).\n",
    "\n",
    "    Returns:\n",
    "    list: A list containing the extracted row or column, or an empty list if the request is invalid.\n",
    "    \"\"\"\n",
    "    # We extract the axis type and index from the request tuple\n",
    "    axis = request[0]\n",
    "    index = int(request[1])\n",
    "\n",
    "    if axis == 'col':\n",
    "        # We check if the requested column index is valid\n",
    "        if 0 <= index < len(header): \n",
    "            # We return the specified column as a list\n",
    "            return [row[index] for row in data]\n",
    "        else:\n",
    "            return []\n",
    "\n",
    "    elif axis == 'row':\n",
    "        # We check if the requested row index is valid\n",
    "        if 0 <= index < len(data):  \n",
    "            # We return the specified row\n",
    "            return data[index]\n",
    "        else:\n",
    "            return []\n",
    "\n",
    "    else:\n",
    "        # We return an empty list for an invalid axis type\n",
    "        return []"
   ]
  },
  {
   "cell_type": "code",
   "execution_count": 11,
   "metadata": {},
   "outputs": [],
   "source": [
    "request = ('col', '2') \n",
    "assert(extract_axis(header, data, request)[0:5] == ['926389620', '926418960', '926418960', '926430480', '926498640'])\n",
    "request = ('col', '5') \n",
    "assert(extract_axis(header, data, request) == [])\n",
    "\n",
    "request = ('row', 0)\n",
    "assert(extract_axis(header, data, request) == ['48', '13', '926389620'])\n",
    "request = ('row', 2000)\n",
    "assert(extract_axis(header, data, request) == [])"
   ]
  },
  {
   "cell_type": "markdown",
   "metadata": {},
   "source": [
    "### Problem 3 Processing data\n",
    "\n",
    "#### Problem 3.1 Counting emails(1 points)\n",
    "\n",
    "The provided csv file records the email correspondence of certain users in the company Enron over a specific period of time. Each row in the dataset represents a single email record with the following columns:\n",
    "\n",
    "- **from**: The user ID of the sender\n",
    "- **to**: The user ID of the recipient\n",
    "- **timestamp**: The timestamp when the email was sent\n",
    "\n",
    "In this problem, you will implement a function ```count_emails(data)``` that takes header, data which returns from function ```load_data``` as inputs. Your function should return a dictionary where the keys are user IDs and the values are lists which record the numbers of emails that each user sent and received.\n",
    "\n",
    "Example: The function will be called by ```count_emails(header, data)```. The function should return a dictionary where the keys are user IDs and the values are lists which record the numbers of emails that each user sent and received, i.e., ```{'48': [305, 38], '13': [22, 169], '67': [272, 99], '75': [30, 2], ... , '45': [0, 2], '148': [0, 2]} ```, where ```'48': [305, 38]``` represent user whose ID is 48 sent 305 emails and received 38 emails."
   ]
  },
  {
   "cell_type": "markdown",
   "metadata": {},
   "source": [
    "----------------------\n",
    "\n",
    "For the third function, we find the indexes for \"from\" and \"to\" columns in `header` through .index method. We store them as `sender_index` and `recipient_index`, respectively. Then, we create a list that holds all the 'from' data in the dataset as sender, called `sender_list`. We create another list that holds all the 'to' data in the dataset as recipient, called `recipient_list`. Finally, we create an empty dictionary to iterate over and return, called `email_counts`. \n",
    "\n",
    "We start with creating a loop for senders. We iterate through each sender in the sender list. If the sender is not in the dictionary, we add them with the initial counts of 0. Then, we add the sent count for each sender. We use index 0 to indicate that this person is a sender, as in our dictionary the first key will be the sender. \n",
    "\n",
    "Then, we create a similar loop for recipients. We iterate through each recipient in the recipient list. If the recipient is not in the dictionary, we add them with the initial counts of 0. Then, we add the received count for each recipient. We use index 1 to indicate that this person is a recipient as in our dictionary the second key will be the recipient. "
   ]
  },
  {
   "cell_type": "code",
   "execution_count": 14,
   "metadata": {},
   "outputs": [],
   "source": [
    "def count_emails(header, data):\n",
    "    \"\"\"\n",
    "    Count the number of emails sent and received by each user.\n",
    "\n",
    "    This function processes the email dataset to count the number of emails sent and received by each user. It returns a dictionary where\n",
    "    the keys are user IDs, and the values are lists containing two elements: the count of emails sent and the count of emails received.\n",
    "\n",
    "    Args:\n",
    "    header (list): The list of column headers from the CSV file.\n",
    "    data (list): The list of email records from the CSV file.\n",
    "\n",
    "    Returns:\n",
    "    dict: A dictionary where each key is a user ID and the value is a list containing two integers: [emails_sent, emails_received].\n",
    "    \"\"\"\n",
    "    # We get the indices of the 'from' and 'to' columns\n",
    "    sender_index = header.index('from') \n",
    "    recipient_index = header.index('to')\n",
    "    \n",
    "    # We create lists of senders and recipients from the data\n",
    "    sender_list = [row[sender_index] for row in data] \n",
    "    recipient_list = [row[recipient_index] for row in data] \n",
    "    \n",
    "    # We create an empty dictionary to hold email counts\n",
    "    email_counts = {} \n",
    "\n",
    "    # We count the number of emails sent by each user\n",
    "    for sender in sender_list:\n",
    "        if sender not in email_counts:\n",
    "            email_counts[sender] = [0, 0]  # [emails_sent, emails_received]\n",
    "        email_counts[sender][0] += 1  # We increase the sent count by 1.\n",
    "\n",
    "    # We count the number of emails received by each user\n",
    "    for recipient in recipient_list:\n",
    "        if recipient not in email_counts:\n",
    "            email_counts[recipient] = [0, 0]  # [emails_sent, emails_received]\n",
    "        email_counts[recipient][1] += 1  # We increase the received count by 1.\n",
    "\n",
    "    return email_counts"
   ]
  },
  {
   "cell_type": "code",
   "execution_count": 15,
   "metadata": {},
   "outputs": [],
   "source": [
    "assert(count_emails(header, data)['81']==[0, 79])"
   ]
  },
  {
   "cell_type": "markdown",
   "metadata": {},
   "source": [
    "#### Problem 3.2 (1 points)\n",
    "\n",
    " In this problem,you will implement a function `user_interact_times(header, data, user)` that takes header, data and the ID of a user as inputs. The function should return a list which records the timestamps when the user received or sent an email.\n",
    "\n",
    "Example: If the timestamps when the user whose ID is 27 received or sent an email need to be queried, the function will be called by ```user_interact_times(table, data, ‘27’)``` and a list contains the timestamps should be returned, i.e., ```\n",
    "['933128880', '934871340', '937217160', '939265800', '939714540', '940407300', '943877460', '943877460', '944625600', '944645820', '944700780', '944725860', '944726280', '944816760', '945051300', '945133080', '945163920', '945236760', '945253980', '945309780', '945312600', '945392280', '945392280', '945392760', '945425040', '945681420', '945681960', '945760560', '946272300', '946272300', '946450320', '946980900', '947121000', '947128680', '947147940', '947236440', '947482800', '947482800', '947497740', '947576880', '947576880', '947637360', '947660340', '947660340', '947667600', '947754420', '947839620', '948099780', '948269220', '948360300', '948675360', '948762540', '948771780', '948789300', '948876600', '948965040', '949309920']```"
   ]
  },
  {
   "cell_type": "markdown",
   "metadata": {},
   "source": [
    "--------------------------\n",
    "\n",
    "For the fourth function, again, we find the indexes for 'from', 'to', and 'timestamp' columns in `header` through .index method. We store them as `sender_index`, `recipient_index`, and `timestamp_index`, respectively. Again, we create a list that holds all the 'from' data in the dataset as sender called `sender_list`. We create another list that holds all the 'to' data in the dataset as recipient, called `recipient_list`. We create another list that holds all the 'timestamp' data in the dataset as timestamp, called `timestamp_list`. Finally, we create an empty list to iterate over and return, called `user_timestamp`. \n",
    "\n",
    "Then, we create a loop for index in data. We iterate through each index in the range of the length of the data. We set a conditional statement to assess if a specific person in a specific index among senders or recipients is our user. If they are, then we add their timestamp by using their index to find them in our timestamp list. We then append the list we created with the timestamp we found."
   ]
  },
  {
   "cell_type": "code",
   "execution_count": 18,
   "metadata": {},
   "outputs": [],
   "source": [
    "def user_interact_times(header, data, user):\n",
    "    \"\"\"\n",
    "    Retrieve timestamps of emails sent or received by a specific user.\n",
    "\n",
    "    This function processes the email dataset to find all timestamps when the specified user either sent or received an email. \n",
    "    It returns a list of these timestamps.\n",
    "\n",
    "    Args:\n",
    "    header (list): The list of column headers from the CSV file.\n",
    "    data (list): The list of email records from the CSV file.\n",
    "    user (str): The user ID for which to retrieve interaction timestamps.\n",
    "\n",
    "    Returns:\n",
    "    list: A list of timestamps corresponding to emails sent or received by the specified user.\n",
    "    \"\"\"\n",
    "    # We get the indices for 'from', 'to', and 'timestamp' columns\n",
    "    sender_index = header.index('from') \n",
    "    recipient_index = header.index('to')\n",
    "    timestamp_index = header.index('timestamp')\n",
    "    \n",
    "    # We create lists of senders, recipients, and timestamps from the data\n",
    "    sender_list = [row[sender_index] for row in data] \n",
    "    recipient_list = [row[recipient_index] for row in data] \n",
    "    timestamp_list = [row[timestamp_index] for row in data] \n",
    "\n",
    "    # We create an empty list to hold timestamps for the specified user\n",
    "    user_timestamp = [] \n",
    "\n",
    "    # We iterate through the data to find timestamps for the user\n",
    "    for i in range(len(data)):\n",
    "        if sender_list[i] == user or recipient_list[i] == user: \n",
    "            user_timestamp.append(timestamp_list[i])  # We add the timestamp to the list\n",
    "\n",
    "    return user_timestamp"
   ]
  },
  {
   "cell_type": "code",
   "execution_count": 19,
   "metadata": {},
   "outputs": [],
   "source": [
    "user = '27'\n",
    "assert(user_interact_times(header, data, user)==['933128880', '934871340', '937217160', '939265800', '939714540', '940407300', '943877460', '943877460', '944625600', '944645820', '944700780', '944725860', '944726280', '944816760', '945051300', '945133080', '945163920', '945236760', '945253980', '945309780', '945312600', '945392280', '945392280', '945392760', '945425040', '945681420', '945681960', '945760560', '946272300', '946272300', '946450320', '946980900', '947121000', '947128680', '947147940', '947236440', '947482800', '947482800', '947497740', '947576880', '947576880', '947637360', '947660340', '947660340', '947667600', '947754420', '947839620', '948099780', '948269220', '948360300', '948675360', '948762540', '948771780', '948789300', '948876600', '948965040', '949309920'])"
   ]
  },
  {
   "cell_type": "markdown",
   "metadata": {},
   "source": [
    "#### Problem 3.3 Format timestamps (1 points)\n",
    "\n",
    "The timestamps in the provided csv file is recored in Unix format. Unix format represents the number of seconds that have elapsed since January 1, 1970. This format is not easily readable by humans.\n",
    "\n",
    "In this problem, you will implement a function `format_timestamp(header, data)` that takes header, data as inputs. The function should convert the Unix timestamp of each row to a more readable date format: `YYYY-MM-DD HH:MM:SS`. This more readable form of the timestamp will be appended to each row. The header should also be updated to add a column name `timestamp_formated`. The updated header and data should be returned.\n",
    "\n",
    "In this exercies, you are allowed to use package datetime to format the timestamp as follows:\n",
    "\n",
    "```python\n",
    "from datetime import datetime\n",
    "unix_timestamp = int('939019080')\n",
    "readable_timestamp = datetime.fromtimestamp(unix_timestamp).strftime('%Y-%m-%d %H:%M:%S')\n",
    "```\n",
    "\n",
    "\n",
    "Example: the function will be called by ```format_timestamp(header, data)```. The updated header (```['from', 'to', 'timestamp', 'time']```) and formatted data (```[['48', '13', '926389620', '1999-05-11 02:27:00'], ['67', '13', '926418960', '1999-05-11 10:36:00'], ['67', '13', '926418960', '1999-05-11 10:36:00'], ... , ['137', '49', '949312440', '2000-01-31 09:54:00']]```) should be returned."
   ]
  },
  {
   "cell_type": "markdown",
   "metadata": {},
   "source": [
    "------------\n",
    "\n",
    "For the fifth function, we first add the name of the new column to the `header`. We store the updated header as `new_header`. We will also return it as `new_header`. Then, we create a loop to iterate over each index of the range of the length of the data. Through indexing, we access the third element (index 2) of the i-th row. Then, we append the formatted timestamp for each index to each row in the data. We finally create a new object called `formatted_data`, which is equal to data. We do this to rename the data, as we are required to return it as formatted_data. "
   ]
  },
  {
   "cell_type": "code",
   "execution_count": 22,
   "metadata": {},
   "outputs": [],
   "source": [
    "from datetime import datetime\n",
    "\n",
    "def format_timestamp(header, data):\n",
    "    \"\"\"\n",
    "    Convert Unix timestamps in the dataset to a more readable format.\n",
    "\n",
    "    This function takes the header and data from a CSV file, converts the Unix timestamps in each row to a human-readable date format\n",
    "    (YYYY-MM-DD HH:MM:SS), and appends this formatted timestamp to each row. The header is also updated to include a new column name for \n",
    "    the formatted timestamps.\n",
    "\n",
    "    Args:\n",
    "    header (list): The list of column headers from the CSV file.\n",
    "    data (list): The list of email records from the CSV file.\n",
    "\n",
    "    Returns:\n",
    "    tuple: A tuple containing two elements:\n",
    "        - new_header (list): The updated header with the new column name.\n",
    "        - formatted_data (list): The updated data with formatted timestamps.\n",
    "    \"\"\"\n",
    "    # We create a new header with an additional column for formatted timestamps\n",
    "    new_header = header + ['formatted_timestamp']\n",
    "\n",
    "    # We iterate through the data to convert Unix timestamps to readable format\n",
    "    for i in range(len(data)):\n",
    "        unix_timestamp = int(data[i][2])  # We get the Unix timestamp from the third column\n",
    "        readable_timestamp = datetime.fromtimestamp(unix_timestamp).strftime('%Y-%m-%d %H:%M:%S')\n",
    "        data[i].append(readable_timestamp) \n",
    "\n",
    "    # The updated data now contains the formatted timestamps\n",
    "    formatted_data = data\n",
    "    \n",
    "    return new_header, formatted_data"
   ]
  },
  {
   "cell_type": "code",
   "execution_count": 23,
   "metadata": {},
   "outputs": [],
   "source": [
    "new_header, formatted_data = format_timestamp(header, data)\n",
    "assert(new_header == ['from', 'to', 'timestamp', 'formatted_timestamp'])\n",
    "assert(formatted_data[0:3] == [['48', '13', '926389620', '1999-05-11 04:27:00'], ['67', '13', '926418960', '1999-05-11 12:36:00'], ['67', '13', '926418960', '1999-05-11 12:36:00']])"
   ]
  }
 ],
 "metadata": {
  "colab": {
   "collapsed_sections": [],
   "name": "Final_DSA_Assignment_III_a.ipynb",
   "provenance": []
  },
  "kernelspec": {
   "display_name": "Python 3 (ipykernel)",
   "language": "python",
   "name": "python3"
  },
  "language_info": {
   "codemirror_mode": {
    "name": "ipython",
    "version": 3
   },
   "file_extension": ".py",
   "mimetype": "text/x-python",
   "name": "python",
   "nbconvert_exporter": "python",
   "pygments_lexer": "ipython3",
   "version": "3.10.13"
  }
 },
 "nbformat": 4,
 "nbformat_minor": 4
}
