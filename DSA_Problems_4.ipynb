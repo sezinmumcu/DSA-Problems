{
 "cells": [
  {
   "cell_type": "markdown",
   "id": "bulgarian-california",
   "metadata": {},
   "source": [
    "## Algorithms and Data Structures in Python — Assignment 4 ##\n",
    "\n",
    "The following assignment will test your understanding of topics covered in the first five weeks of the course. This assignment **will count towards your grade** and should be submitted through Canvas by **10.10.2024 at 23:59 (CEST)**. You are required to work and prepare your submissions in groups with 3 students per group. You can get at most 10 points for Assignment 4, which is 10\\% of your final grade. \n",
    "\n",
    "1. For submission, please rename your notebook as ```group_{i}_assignment4.ipynb```. For example, submission by group 1 should have the filename ```group_1_assignment4.ipynb```.\n",
    "\n",
    "2. Please follow the function prototype specified in the question for writing your code. The usage of additional functions is acceptable unless the problem expressly prohibits it. If this structure is modified, it will fail automated testing steps.\n",
    "\n",
    "3. All submissions will be checked for code similarity. Submissions with high similarity will be summarily rejected and no points will be awarded.\n",
    "\n",
    "4. Please do NOT use the ```input()``` function in your code. \n",
    "\n",
    "5. For each exercise the correct solution counts for the 80% of the exercise's points, while code style counts for the remaining 20%. Please, make sure that you explain what your implementation does using comments.\n",
    "\n",
    "6. Usage of ```dataclasses``` is not allowed."
   ]
  },
  {
   "cell_type": "markdown",
   "id": "opponent-colleague",
   "metadata": {},
   "source": [
    "### Working with Classes ###\n",
    "\n",
    "Travel agents work with various planning applications to get real-time travel information to serve their clients. In this assignment, you will build a complete product that will offer travel agents the ability to add, delete and update railway travel information for several railway stations in the country (Netherlands), while still being able to view complex connections with a single command. You will be storing this information in a graph. A graph is composed of nodes (vertices) connected with edges. The nodes in our problem are railway stations, while the edges are railway connections between them.\n",
    "\n",
    "For this exercise, you will write two classes:\n",
    "\n",
    "1. The ```RailwayStation``` class stores attributes commonly associated with railway stations (e.g. railway station name, railway station code, inbound and outbound connections) in a single place.\n",
    "\n",
    "2. The ```RailwayNetwork``` class  stores connections between these stations and provides an interface for travel agents to work with ```RailwayStation``` objects and build their own travel networks.\n",
    "\n",
    "Let's look at these classes individually."
   ]
  },
  {
   "cell_type": "markdown",
   "id": "isolated-ozone",
   "metadata": {},
   "source": [
    "#### Problem 1: The ```RailwayStation``` class (4 points) ####"
   ]
  },
  {
   "cell_type": "markdown",
   "id": "c9222609",
   "metadata": {},
   "source": [
    "The ```RailwayStation``` class stores information associated with a railway station. This class must define the following attributes:\n",
    "\n",
    "\n",
    "1. ```railway_station_name``` should accept the railway station name and save it within an instance variable.\n",
    "\n",
    "\n",
    "2. ```railway_station_code``` should accept the railway station code and save it within an instance variable. Two distinct railway stations cannot have the same railway_station_code. Information about railway stations names and their respective codes (for railway stations in the Netherlands) can be found [here](https://en.wikipedia.org/wiki/Railway_stations_in_the_Netherlands) (in the **List of stations, with their official abbreviations** section). Write an appropriate setter method to ensure that the supplied railway station code complies with the general structure of a station code (string without numerical information, 3-4 characters long).\n",
    "\n",
    "\n",
    "3. ```inbound_connections``` stores all destinations with an incoming train into this station.\n",
    "\n",
    "\n",
    "4. ```outbound_connections``` stores a dictionary of destinations that can be reached from this railway station. The key for the dictionary is the ```railway_station_code``` of the destination and the value is ticket price.\n",
    "\n",
    "\n",
    "In addition to these functions, you must also keep the following design constraints in mind:\n",
    "\n",
    "1. The ```RailwayStation``` class is only intended to be accessed from the ```Network``` class that will be introduced shortly.\n",
    "\n",
    "\n",
    "2. The class should define its ```__init__``` and ```__str__``` methods appropriately.\n",
    "\n",
    "\n",
    "3. The ```RailwayStation``` class must additionally implement setter and deleter methods for adding and removing railways stations from ```inbound_connections``` and ```outbound_connections```.\n",
    "\n",
    "The structure for ```RailwayStation``` class is provided below:\n",
    "\n",
    "```python\n",
    "class RailwayStation:\n",
    "  def __init__(self, railway_station_name, railway_station_code):\n",
    "    pass\n",
    "\n",
    "  def __str__(self):\n",
    "    pass\n",
    "\n",
    "  def __repr__(self):\n",
    "    pass\n",
    "\n",
    "  def set_inbound_connection(self, railway_station_code):\n",
    "    # Add an inbound connection to this railway station.\n",
    "    pass\n",
    "\n",
    "  def delete_inbound_connection(self, railway_station_code):\n",
    "    # Delete an inbound connection to this railway station.\n",
    "    pass\n",
    "\n",
    "  def set_outbound_connection(self, railway_station_code, ticket_price):\n",
    "    # Add an outbound connection from this railway station to a destination and the ticket price.\n",
    "    pass\n",
    "\n",
    "  def delete_outbound_connection(self, railway_station_code):\n",
    "    # Delete an outbound connection from this railway station to a destination.\n",
    "    pass\n",
    "```\n",
    "\n",
    "Please ensure that your indentation is correct."
   ]
  },
  {
   "cell_type": "markdown",
   "id": "63b812a5-89d5-4a0a-9ac6-1044c156c509",
   "metadata": {},
   "source": [
    "---------------\n",
    "\n",
    "For the first problem, we start with `__init___` to intialise the data attributes. We assign the provided `railway_station_name` and `railway_station_code` to instance variables of the same names. Then, we create an empty set to store inbound connections. We use a set because it prevents duplicate entries and it is easy to make additions or removals of connections.\n",
    "\n",
    "Then, we specify what we want to be printed with `__st__` method. We choose the format as: \"Station Name (Station Code)\". \n",
    "\n",
    "For the `__repr__` method, we make it to return the same thing as `__str__`, as our string representation is already clear.\n",
    "\n",
    "We then define a property getter. We use `@property` build-in function, as implemented here: https://www.programiz.com/python-programming/property With this function, we transform the railway_station_code method into a \"getter\" for a property.\n",
    "\n",
    "Later, we introduce the `railway_station_code.setter` decorator to indicate that this method is the setter for the `railway_station_code` property. With this setter, we aim to ensure that the `railway_station_code` always adheres to the specified format (3-4 alphabetic characters).\n",
    "\n",
    "We then define the remaining methods: `set_inbound_connection`, `delete_inbound_connection`, `set_outbound_connection`, `delete_outbound_connection`. We use `add()` and `discard()` methods for the first two. With the third method, we add or update an outbound connection from the current railway station to another station, along with the ticket price for that connection. In the fourth method we use the `pop()` method. We remove an existing outbound connection from the current railway station to another station, and return `None` if the key is not found in the dictionary."
   ]
  },
  {
   "cell_type": "code",
   "execution_count": 6,
   "id": "0cf22b6d-8b10-4103-9d3b-daf25ccc6d7a",
   "metadata": {},
   "outputs": [],
   "source": [
    "class RailwayStation:\n",
    "    \"\"\"\n",
    "    Represents a railway station with its name, code, and connections.\n",
    "\n",
    "    Attributes:\n",
    "        railway_station_name (str): The name of the railway station.\n",
    "        railway_station_code (str): The unique code of the railway station (3-4 alphabetic characters).\n",
    "        inbound_connections (set): Codes of stations with incoming trains to this station.\n",
    "        outbound_connections (dict): Destinations reachable from this station, with ticket prices.\n",
    "    \"\"\"\n",
    "\n",
    "    def __init__(self, railway_station_name, railway_station_code):\n",
    "        \"\"\"\n",
    "        Initialize a RailwayStation object.\n",
    "\n",
    "        Args:\n",
    "            railway_station_name (str): The name of the railway station.\n",
    "            railway_station_code (str): The unique code of the railway station.\n",
    "        \"\"\"\n",
    "        self.railway_station_name = railway_station_name\n",
    "        self.railway_station_code = railway_station_code\n",
    "        self.inbound_connections = set()\n",
    "        self.outbound_connections = {}\n",
    "\n",
    "    def __str__(self):\n",
    "        \"\"\"Return a string representation of the railway station.\"\"\"\n",
    "        return f\"Railway Station: {self.railway_station_name} ({self.railway_station_code})\"\n",
    "\n",
    "    def __repr__(self):\n",
    "        \"\"\"Return a string representation of the railway station, same as __str__.\"\"\"\n",
    "        return self.__str__()\n",
    "\n",
    "    @property\n",
    "    def railway_station_code(self):\n",
    "        \"\"\"Get the railway station code.\"\"\"\n",
    "        return self._railway_station_code\n",
    "\n",
    "    @railway_station_code.setter\n",
    "    def railway_station_code(self, code):\n",
    "        \"\"\"\n",
    "        Set the railway station code, ensuring it meets the required format.\n",
    "\n",
    "        Args:\n",
    "            code (str): The station code to set.\n",
    "\n",
    "        Raises:\n",
    "            ValueError: If the code doesn't meet the required format.\n",
    "        \"\"\"\n",
    "        # Ensure the code is a string, 3-4 characters long, and contains no digits\n",
    "        if isinstance(code, str) and 3 <= len(code) <= 4 and code.isalpha():\n",
    "            self._railway_station_code = code.upper()\n",
    "        else:\n",
    "            raise ValueError(\"Invalid station code. Must be 3-4 alphabetic characters.\")\n",
    "\n",
    "    def set_inbound_connection(self, railway_station_code): \n",
    "        \"\"\"\n",
    "        Add an inbound connection to this railway station.\n",
    "\n",
    "        Args:\n",
    "            railway_station_code (str): The code of the station with an incoming connection.\n",
    "        \"\"\"\n",
    "        self.inbound_connections.add(railway_station_code)\n",
    "\n",
    "    def delete_inbound_connection(self, railway_station_code):\n",
    "        \"\"\"\n",
    "        Delete an inbound connection to this railway station.\n",
    "\n",
    "        Args:\n",
    "            railway_station_code (str): The code of the station to remove from inbound connections.\n",
    "        \"\"\"\n",
    "        self.inbound_connections.discard(railway_station_code)\n",
    "\n",
    "    def set_outbound_connection(self, railway_station_code, ticket_price):\n",
    "        \"\"\"\n",
    "        Add an outbound connection from this railway station to a destination.\n",
    "\n",
    "        Args:\n",
    "            railway_station_code (str): The code of the destination station.\n",
    "            ticket_price (float): The price of the ticket to the destination.\n",
    "        \"\"\"\n",
    "        self.outbound_connections[railway_station_code] = ticket_price\n",
    "\n",
    "    def delete_outbound_connection(self, railway_station_code):\n",
    "        \"\"\"\n",
    "        Delete an outbound connection from this railway station to a destination.\n",
    "\n",
    "        Args:\n",
    "            railway_station_code (str): The code of the destination station to remove.\n",
    "        \"\"\"\n",
    "        self.outbound_connections.pop(railway_station_code, None)"
   ]
  },
  {
   "cell_type": "markdown",
   "id": "pediatric-idaho",
   "metadata": {},
   "source": [
    "#### Problem 2: The ```RailwayNetwork``` class (6 points) ####"
   ]
  },
  {
   "cell_type": "markdown",
   "id": "a4e5f193",
   "metadata": {},
   "source": [
    "The ```RailwayStation``` class takes care of individual railway stations. A railway network can contain hundreds of such railway stations. You will now build a ```RailwayNetwork``` class with the following functions:\n",
    "\n",
    "1. ```def add_railway_station(self, railway_station_name, railway_station_code)``` adds a railway station with its respective name (e.g. **Amsterdam Central**) and code (e.g. **Asd**) to the graph. Remember that railway station codes are always unique and an agent should not be allowed to add two RailwayStation objects with the same railway station code into a network. You are also asked to set the built-in class methods ```__init__``` and ```__str__``` properly so that the objects are properly initialized and their str() representations provide readable, well-formatted string representations.\n",
    "\n",
    "\n",
    "2. ```def set_route(self, src_railway_station_code, dst_railway_station_code, ticket_price)``` should add a connection from the source railway station to the destination railway station with the specified ticket price. You will accept railway station codes for source and destination and raise appropriate errors if the user tries to overwrite existing routes. This function will also update the inbound and outbound connection attributes for the source and destination RailwayStation objects.\n",
    "\n",
    "3. ```def modify_route_price(self, src_railway_station_code, dst_railway_station_code, new_ticket_price)``` which should modify the price of an existing route from the source railway station to the destination railway station. You will accept railway station codes for source and destination and raise appropriate errors if the user tries to modify non-existent routes or supply invalid data.\n",
    "\n",
    "\n",
    "4. ```def del_route(self, src_railway_station_code, dst_railway_station_code)``` which should delete the route and update the appropriate attributes of the source and destination RailwayStation objects.\n",
    "\n",
    "6. ```def get_network_graph(self)``` uses information about nodes and their outbound connections for all RailwayStation objects in the Network instance to build a graphical representation of connectivity. You can look up https://python-graph-gallery.com/ on how to build these graphs. \n",
    "\n",
    "The ```RailwayNetwork``` class should follow the function prototype as given below:\n",
    "\n",
    "\n",
    "```python\n",
    "class RailwayNetwork:\n",
    "  def __init__(self):\n",
    "      pass\n",
    "  \n",
    "  def add_railway_station(self, railway_station_name, railway_station_code):\n",
    "      pass\n",
    "    \n",
    "  def set_route(self, src_railway_station_code, dst_railway_station_code, price):\n",
    "      pass\n",
    "\n",
    "  def modify_route_price(self, src_railway_station_code, dst_railway_station_code, new_price):\n",
    "      pass\n",
    "\n",
    "  def del_route(self, src_railway_station_code, dst_railway_station_code):\n",
    "      pass\n",
    "  \n",
    "  def get_network_graph(self):\n",
    "      pass\n",
    "```\n",
    "\n",
    "__NOTE__ : Raise appropriate errors if somebody tries to modify non-existent relations or supply invalid data."
   ]
  },
  {
   "cell_type": "markdown",
   "id": "0b55813b",
   "metadata": {},
   "source": [
    "### Some Example Inputs \n",
    "\n",
    "Below are some example inputs. Please note that these commands represent only a small set of possible commands that your program may be tested against.\n",
    "\n",
    "```python\n",
    "n = RailwayNetwork()\n",
    "\n",
    "# Add railway stations.\n",
    "n.add_railway_station('Amsterdam Central', 'Asd')\n",
    "n.add_railway_station('Amsterdam Zuid', 'Asdz')\n",
    "n.add_railway_station('Amsterdam Rai', 'Rai')\n",
    "n.add_railway_station('Haarlem', 'Hlm')\n",
    "n.add_railway_station('Weesp', 'Wp')\n",
    "n.add_railway_station('Utrecht Centraal', 'Ut')\n",
    "\n",
    "# Add routes between railway stations and set the ticket price.\n",
    "n.set_route('Asdz', 'Rai', 1)\n",
    "n.set_route('Asdz', 'Asd', 3)\n",
    "n.set_route('Rai', 'Asd', 1)\n",
    "n.set_route('Hlm', 'Asd', 2)\n",
    "n.set_route('Wp', 'Asd', 2)\n",
    "n.set_route('Wp', 'Ut', 3)\n",
    "n.set_route('Asd', 'Ut', 5)\n",
    "\n",
    "# Visualize the Railway Network.\n",
    "n.get_network_graph()\n",
    "\n",
    "```"
   ]
  },
  {
   "cell_type": "markdown",
   "id": "74a3fec5",
   "metadata": {},
   "source": [
    "Now a few things to keep in mind:\n",
    "\n",
    "1. This homework will be manually evaluated and points are earmarked for code cleanliness and comments. Pay special emphasis on testing your code with sufficient examples.\n",
    "\n",
    "2. Set the built-in class methods ```__init__``` and ```__str__``` properly so that the objects are properly initialized and their ```str()``` representations provide readable, well-formatted information."
   ]
  },
  {
   "cell_type": "markdown",
   "id": "862dcb71-813c-47b9-869d-c81265eb5db3",
   "metadata": {},
   "source": [
    "----------------\n",
    "For the second problem, again, we start with `__init___` to intialise the data attributes. We set up a new `RailwayNetwork` object with an empty collection of stations, by setting up an empty dictionary. This dictionary will be used to store RailwayStation objects, with station codes as keys.\n",
    "\n",
    "Then, again, we specify what we want to be printed with `__st__` method. We choose the format as: \"Railway Network with {len(self.stations)} stations\". Here, `len(self.stations)` counts the number of items in the `self.stations` dictionary, which represents the total number of stations in the network.\n",
    "\n",
    "With the third method, we aim to add a new railway station to the network. We first check if this station is already added in our network, because we want to store each station for only once. If the station code already exists, we raises a `ValueError`. If the station code is new, we a new RailwayStation object and add it to the `self.stations` dictionary.\n",
    "\n",
    "With the fourth method, we aim to set a route between two railway stations. We first check if both stations exist in the network. If at least one station doesn't exist, we raise a `ValueError`. If both stations exist, we retrieve the station objects. We then check if the route already exists, because we do not want to create an already existing route. Finally, to set up the route, we set an outbound connection from the source station to the destination station, including the price. Then, we set an inbound connection from the destination station to the source station without price, as the price is only stored in the outbound connection.\n",
    "\n",
    "With the fifth method, we aim to change the price of an existing route. Similar to the previous steps, we first check if both stations exist in the network. If either station doesn't exist, we raise a `ValueError`. If both stations exist, we retrieve the source station object. We then check if the route exists, because we can't modify a non-existent route. Finally, we update the price of the route, so that the price in the `outbound_connections` dictionary of the source station is directly modified.\n",
    "\n",
    "With the sixth method, we aim to enable the deletion of an existing route between two stations. Again, we follow similar checks. We first make sure both stations exist in the network. If either station doesn't exist, we raise a `ValueError`. If both stations exist, we retrieve both station objects. We then checks if the route exists, because we can't delete a non-existent route. Finally, we delete the route by removing the outbound connection from the source station, and removing the inbound connection from the destination station.\n",
    "\n",
    "Finally, with the last method, we aim to visualise the Railway Network. We first initiate an empty list to store the string representations of connections. Then, we create two nested loops: Our outer loop iterates over all stations in the network, whereas our inner loop iterates over all outbound connections of each station. For each connection, we create a string representation. And finally, we add all these strings with newline characters and return the result."
   ]
  },
  {
   "cell_type": "code",
   "execution_count": 12,
   "id": "7c60e506-ae3c-435e-af07-1e38fe1580ce",
   "metadata": {},
   "outputs": [],
   "source": [
    "class RailwayNetwork:\n",
    "    \"\"\"\n",
    "    Represents a network of railway stations and their connections.\n",
    "    \"\"\"\n",
    "\n",
    "    def __init__(self):\n",
    "        \"\"\"\n",
    "        Initialize an empty railway network.\n",
    "        \"\"\"\n",
    "        self.stations = {}  # Dictionary to store RailwayStation objects, keyed by station code\n",
    "\n",
    "    def __str__(self):\n",
    "        \"\"\"\n",
    "        Return a string representation of the railway network.\n",
    "        \"\"\"\n",
    "        return f\"Railway Network with {len(self.stations)} stations\"\n",
    "\n",
    "    def add_railway_station(self, railway_station_name, railway_station_code):\n",
    "        \"\"\"\n",
    "        Add a new railway station to the network.\n",
    "\n",
    "        Args:\n",
    "            railway_station_name (str): The name of the railway station.\n",
    "            railway_station_code (str): The unique code of the railway station.\n",
    "\n",
    "        Raises:\n",
    "            ValueError: If a station with the given code already exists.\n",
    "        \"\"\"\n",
    "        if railway_station_code in self.stations:\n",
    "            raise ValueError(f\"Station with code {railway_station_code} already exists\")\n",
    "        # Create a new RailwayStation object and add it to the stations dictionary\n",
    "        self.stations[railway_station_code] = RailwayStation(railway_station_name, railway_station_code)\n",
    "\n",
    "    def set_route(self, src_railway_station_code, dst_railway_station_code, price):\n",
    "        \"\"\"\n",
    "        Set a route between two railway stations.\n",
    "\n",
    "        Args:\n",
    "            src_railway_station_code (str): The code of the source station.\n",
    "            dst_railway_station_code (str): The code of the destination station.\n",
    "            price (float): The ticket price for this route.\n",
    "\n",
    "        Raises:\n",
    "            ValueError: If either station doesn't exist or if the route already exists.\n",
    "        \"\"\"\n",
    "        # Check if both stations exist\n",
    "        if src_railway_station_code not in self.stations or dst_railway_station_code not in self.stations:\n",
    "            raise ValueError(\"Source or destination station does not exist\")\n",
    "        \n",
    "        src_station = self.stations[src_railway_station_code]\n",
    "        dst_station = self.stations[dst_railway_station_code]\n",
    "        \n",
    "        # Check if the route already exists\n",
    "        if dst_railway_station_code in src_station.outbound_connections:\n",
    "            raise ValueError(\"Route already exists\")\n",
    "        \n",
    "        # Set the outbound connection for the source station and inbound for the destination\n",
    "        src_station.set_outbound_connection(dst_railway_station_code, price)\n",
    "        dst_station.set_inbound_connection(src_railway_station_code)\n",
    "\n",
    "    def modify_route_price(self, src_railway_station_code, dst_railway_station_code, new_price):\n",
    "        \"\"\"\n",
    "        Modify the price of an existing route.\n",
    "\n",
    "        Args:\n",
    "            src_railway_station_code (str): The code of the source station.\n",
    "            dst_railway_station_code (str): The code of the destination station.\n",
    "            new_price (float): The new ticket price for this route.\n",
    "\n",
    "        Raises:\n",
    "            ValueError: If either station doesn't exist or if the route doesn't exist.\n",
    "        \"\"\"\n",
    "        # Check if both stations exist\n",
    "        if src_railway_station_code not in self.stations or dst_railway_station_code not in self.stations:\n",
    "            raise ValueError(\"Source or destination station does not exist\")\n",
    "        \n",
    "        src_station = self.stations[src_railway_station_code]\n",
    "        \n",
    "        # Check if the route exists\n",
    "        if dst_railway_station_code not in src_station.outbound_connections:\n",
    "            raise ValueError(\"Route does not exist\")\n",
    "        \n",
    "        # Update the price\n",
    "        src_station.outbound_connections[dst_railway_station_code] = new_price\n",
    "\n",
    "    def del_route(self, src_railway_station_code, dst_railway_station_code):\n",
    "        \"\"\"\n",
    "        Delete an existing route between two stations.\n",
    "\n",
    "        Args:\n",
    "            src_railway_station_code (str): The code of the source station.\n",
    "            dst_railway_station_code (str): The code of the destination station.\n",
    "\n",
    "        Raises:\n",
    "            ValueError: If either station doesn't exist or if the route doesn't exist.\n",
    "        \"\"\"\n",
    "        # Check if both stations exist\n",
    "        if src_railway_station_code not in self.stations or dst_railway_station_code not in self.stations:\n",
    "            raise ValueError(\"Source or destination station does not exist\")\n",
    "        \n",
    "        src_station = self.stations[src_railway_station_code]\n",
    "        dst_station = self.stations[dst_railway_station_code]\n",
    "        \n",
    "        # Check if the route exists\n",
    "        if dst_railway_station_code not in src_station.outbound_connections:\n",
    "            raise ValueError(\"Route does not exist\")\n",
    "        \n",
    "        # Delete the route\n",
    "        src_station.delete_outbound_connection(dst_railway_station_code)\n",
    "        dst_station.delete_inbound_connection(src_railway_station_code)\n",
    "\n",
    "    def get_network_graph(self):\n",
    "        \"\"\"\n",
    "        Generate a string representation of the network graph.\n",
    "\n",
    "        Returns:\n",
    "            str: A string representation of the network, where each line represents a connection.\n",
    "        \"\"\"\n",
    "        graph = []\n",
    "        for code, station in self.stations.items():\n",
    "            for dst, price in station.outbound_connections.items():\n",
    "                graph.append(f\"{code} -> {dst} (€{price})\")\n",
    "        return \"\\n\".join(graph)"
   ]
  },
  {
   "cell_type": "markdown",
   "id": "d649639b-acbd-48fb-a5dc-7069e191e069",
   "metadata": {},
   "source": [
    "---------\n",
    "For the last step, we will test our code. The below codes test for both of the codes (for `RailwayStation` class and for `RailwayNetwork` class), using a set of test cases that cover the main functionalities of both classes."
   ]
  },
  {
   "cell_type": "code",
   "execution_count": 14,
   "id": "bb0023ea-a9b2-430f-b2bd-03e215dd4992",
   "metadata": {},
   "outputs": [
    {
     "name": "stdout",
     "output_type": "stream",
     "text": [
      "Railway Station: Amsterdam Central (AMS)\n"
     ]
    }
   ],
   "source": [
    "# First, let's test the RailwayStation class\n",
    "\n",
    "# We first create some railway stations\n",
    "amsterdam = RailwayStation(\"Amsterdam Central\", \"AMS\")\n",
    "rotterdam = RailwayStation(\"Rotterdam Central\", \"ROT\")\n",
    "utrecht = RailwayStation(\"Utrecht Central\", \"UTR\")\n",
    "\n",
    "print(amsterdam)  # Should print something like: Railway Station: Amsterdam Central (AMS)"
   ]
  },
  {
   "cell_type": "code",
   "execution_count": 15,
   "id": "417aa2dc-1469-4f84-bffd-8ae0ae3b97c6",
   "metadata": {},
   "outputs": [
    {
     "name": "stdout",
     "output_type": "stream",
     "text": [
      "Amsterdam outbound connections: {'ROT': 15.0, 'UTR': 20.0}\n",
      "Amsterdam inbound connections: {'UTR', 'ROT'}\n"
     ]
    }
   ],
   "source": [
    "# Test setting connections\n",
    "amsterdam.set_outbound_connection(\"ROT\", 15.0)\n",
    "amsterdam.set_outbound_connection(\"UTR\", 20.0)\n",
    "amsterdam.set_inbound_connection(\"ROT\")\n",
    "amsterdam.set_inbound_connection(\"UTR\")\n",
    "\n",
    "# Print connections\n",
    "print(f\"Amsterdam outbound connections: {amsterdam.outbound_connections}\")\n",
    "print(f\"Amsterdam inbound connections: {amsterdam.inbound_connections}\")"
   ]
  },
  {
   "cell_type": "code",
   "execution_count": 16,
   "id": "e76228af-e8c6-4c53-b8c2-370492286424",
   "metadata": {},
   "outputs": [
    {
     "name": "stdout",
     "output_type": "stream",
     "text": [
      "Amsterdam outbound connections after deletion: {'UTR': 20.0}\n",
      "Amsterdam inbound connections after deletion: {'ROT'}\n"
     ]
    }
   ],
   "source": [
    "# Test deleting connections\n",
    "amsterdam.delete_outbound_connection(\"ROT\")\n",
    "amsterdam.delete_inbound_connection(\"UTR\")\n",
    "\n",
    "# Print connections again to verify deletion\n",
    "print(f\"Amsterdam outbound connections after deletion: {amsterdam.outbound_connections}\")\n",
    "print(f\"Amsterdam inbound connections after deletion: {amsterdam.inbound_connections}\")"
   ]
  },
  {
   "cell_type": "code",
   "execution_count": 17,
   "id": "81e7eb50-23f0-44bf-a9e9-04b9a34364ad",
   "metadata": {},
   "outputs": [
    {
     "name": "stdout",
     "output_type": "stream",
     "text": [
      "Railway Network with 4 stations\n"
     ]
    }
   ],
   "source": [
    "# Now, let's test the RailwayNetwork class\n",
    "\n",
    "# We first create a railway network\n",
    "network = RailwayNetwork()\n",
    "\n",
    "# We add stations to the network\n",
    "network.add_railway_station(\"Amsterdam Central\", \"AMS\")\n",
    "network.add_railway_station(\"Rotterdam Central\", \"ROT\")\n",
    "network.add_railway_station(\"Utrecht Central\", \"UTR\")\n",
    "network.add_railway_station(\"The Hague Central\", \"HAG\")\n",
    "\n",
    "print(network)  # Should print something like: Railway Network with 4 stations"
   ]
  },
  {
   "cell_type": "code",
   "execution_count": 18,
   "id": "090c49c1-3999-421b-af5e-156b18dc51ff",
   "metadata": {},
   "outputs": [
    {
     "name": "stdout",
     "output_type": "stream",
     "text": [
      "Initial Network Graph:\n",
      "AMS -> ROT (€15.0)\n",
      "AMS -> UTR (€20.0)\n",
      "ROT -> UTR (€25.0)\n",
      "HAG -> ROT (€18.0)\n"
     ]
    }
   ],
   "source": [
    "# Set routes\n",
    "network.set_route(\"AMS\", \"ROT\", 15.0)\n",
    "network.set_route(\"AMS\", \"UTR\", 20.0)\n",
    "network.set_route(\"ROT\", \"UTR\", 25.0)\n",
    "network.set_route(\"HAG\", \"ROT\", 18.0)\n",
    "\n",
    "# Print the network graph\n",
    "print(\"Initial Network Graph:\")\n",
    "print(network.get_network_graph())"
   ]
  },
  {
   "cell_type": "code",
   "execution_count": 19,
   "id": "3b005eff-a7ff-47ab-8e4a-4a9d18228c4c",
   "metadata": {},
   "outputs": [
    {
     "name": "stdout",
     "output_type": "stream",
     "text": [
      "Updated Network Graph:\n",
      "AMS -> ROT (€17.0)\n",
      "AMS -> UTR (€20.0)\n",
      "HAG -> ROT (€18.0)\n"
     ]
    }
   ],
   "source": [
    "# Modify a route price\n",
    "network.modify_route_price(\"AMS\", \"ROT\", 17.0)\n",
    "\n",
    "# Delete a route\n",
    "network.del_route(\"ROT\", \"UTR\")\n",
    "\n",
    "# Print the updated network graph\n",
    "print(\"Updated Network Graph:\")\n",
    "print(network.get_network_graph())"
   ]
  },
  {
   "cell_type": "code",
   "execution_count": 20,
   "id": "487ee53f-164b-4d0a-91da-0b7c7a6f3b7f",
   "metadata": {},
   "outputs": [
    {
     "name": "stdout",
     "output_type": "stream",
     "text": [
      "Error: Station with code AMS already exists\n"
     ]
    }
   ],
   "source": [
    "# Try to add a station that already exists (should raise an error)\n",
    "try:\n",
    "    network.add_railway_station(\"Amsterdam Central\", \"AMS\")\n",
    "except ValueError as e:\n",
    "    print(f\"Error: {e}\")"
   ]
  },
  {
   "cell_type": "code",
   "execution_count": 21,
   "id": "5020e434-e027-4bf5-bbca-6e97f0edd56f",
   "metadata": {},
   "outputs": [
    {
     "name": "stdout",
     "output_type": "stream",
     "text": [
      "Error: Route already exists\n"
     ]
    }
   ],
   "source": [
    "# Try to set a route that already exists (should raise an error)\n",
    "try:\n",
    "    network.set_route(\"AMS\", \"ROT\", 16.0)\n",
    "except ValueError as e:\n",
    "    print(f\"Error: {e}\")"
   ]
  },
  {
   "cell_type": "code",
   "execution_count": 22,
   "id": "1e1491f5-ddd4-4c74-92c7-1cc2e1e69b64",
   "metadata": {},
   "outputs": [
    {
     "name": "stdout",
     "output_type": "stream",
     "text": [
      "Error: Route does not exist\n"
     ]
    }
   ],
   "source": [
    "# Try to modify a non-existent route (should raise an error)\n",
    "try:\n",
    "    network.modify_route_price(\"AMS\", \"HAG\", 30.0)\n",
    "except ValueError as e:\n",
    "    print(f\"Error: {e}\")"
   ]
  },
  {
   "cell_type": "code",
   "execution_count": 23,
   "id": "c1a2eaab-d17f-403d-abc6-baeb3d727537",
   "metadata": {},
   "outputs": [
    {
     "name": "stdout",
     "output_type": "stream",
     "text": [
      "Error: Route does not exist\n"
     ]
    }
   ],
   "source": [
    "# Try to delete a non-existent route (should raise an error)\n",
    "try:\n",
    "    network.del_route(\"UTR\", \"HAG\")\n",
    "except ValueError as e:\n",
    "    print(f\"Error: {e}\")"
   ]
  }
 ],
 "metadata": {
  "kernelspec": {
   "display_name": "Python 3 (ipykernel)",
   "language": "python",
   "name": "python3"
  },
  "language_info": {
   "codemirror_mode": {
    "name": "ipython",
    "version": 3
   },
   "file_extension": ".py",
   "mimetype": "text/x-python",
   "name": "python",
   "nbconvert_exporter": "python",
   "pygments_lexer": "ipython3",
   "version": "3.10.14"
  }
 },
 "nbformat": 4,
 "nbformat_minor": 5
}
